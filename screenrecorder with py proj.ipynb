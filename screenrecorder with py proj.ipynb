{
 "cells": [
  {
   "cell_type": "code",
   "execution_count": null,
   "id": "5ff69a1a",
   "metadata": {},
   "outputs": [],
   "source": [
    "\n"
   ]
  },
  {
   "cell_type": "code",
   "execution_count": 2,
   "id": "a8c40fbf",
   "metadata": {},
   "outputs": [
    {
     "ename": "OSError",
     "evalue": "screen grab failed",
     "output_type": "error",
     "traceback": [
      "\u001b[1;31m---------------------------------------------------------------------------\u001b[0m",
      "\u001b[1;31mOSError\u001b[0m                                   Traceback (most recent call last)",
      "Cell \u001b[1;32mIn[2], line 31\u001b[0m\n\u001b[0;32m     27\u001b[0m cv2\u001b[38;5;241m.\u001b[39mresizeWindow(\u001b[38;5;124m\"\u001b[39m\u001b[38;5;124mLive\u001b[39m\u001b[38;5;124m\"\u001b[39m, \u001b[38;5;241m480\u001b[39m, \u001b[38;5;241m270\u001b[39m)\n\u001b[0;32m     29\u001b[0m \u001b[38;5;28;01mwhile\u001b[39;00m \u001b[38;5;28;01mTrue\u001b[39;00m:\n\u001b[0;32m     30\u001b[0m \t\u001b[38;5;66;03m# Take screenshot using PyAutoGUI\u001b[39;00m\n\u001b[1;32m---> 31\u001b[0m \timg \u001b[38;5;241m=\u001b[39m \u001b[43mpyautogui\u001b[49m\u001b[38;5;241;43m.\u001b[39;49m\u001b[43mscreenshot\u001b[49m\u001b[43m(\u001b[49m\u001b[43m)\u001b[49m\n\u001b[0;32m     33\u001b[0m \t\u001b[38;5;66;03m# Convert the screenshot to a numpy array\u001b[39;00m\n\u001b[0;32m     34\u001b[0m \tframe \u001b[38;5;241m=\u001b[39m np\u001b[38;5;241m.\u001b[39marray(img)\n",
      "File \u001b[1;32m~\\AppData\\Local\\Programs\\Python\\Python311\\Lib\\site-packages\\pyscreeze\\__init__.py:538\u001b[0m, in \u001b[0;36m_screenshot_win32\u001b[1;34m(imageFilename, region, allScreens)\u001b[0m\n\u001b[0;32m    533\u001b[0m \u001b[38;5;250m\u001b[39m\u001b[38;5;124;03m\"\"\"\u001b[39;00m\n\u001b[0;32m    534\u001b[0m \u001b[38;5;124;03mTODO\u001b[39;00m\n\u001b[0;32m    535\u001b[0m \u001b[38;5;124;03m\"\"\"\u001b[39;00m\n\u001b[0;32m    536\u001b[0m \u001b[38;5;66;03m# TODO - Use the winapi to get a screenshot, and compare performance with ImageGrab.grab()\u001b[39;00m\n\u001b[0;32m    537\u001b[0m \u001b[38;5;66;03m# https://stackoverflow.com/a/3586280/1893164\u001b[39;00m\n\u001b[1;32m--> 538\u001b[0m im \u001b[38;5;241m=\u001b[39m \u001b[43mImageGrab\u001b[49m\u001b[38;5;241;43m.\u001b[39;49m\u001b[43mgrab\u001b[49m\u001b[43m(\u001b[49m\u001b[43mall_screens\u001b[49m\u001b[38;5;241;43m=\u001b[39;49m\u001b[43mallScreens\u001b[49m\u001b[43m)\u001b[49m\n\u001b[0;32m    539\u001b[0m \u001b[38;5;28;01mif\u001b[39;00m region \u001b[38;5;129;01mis\u001b[39;00m \u001b[38;5;129;01mnot\u001b[39;00m \u001b[38;5;28;01mNone\u001b[39;00m:\n\u001b[0;32m    540\u001b[0m     \u001b[38;5;28;01massert\u001b[39;00m \u001b[38;5;28mlen\u001b[39m(region) \u001b[38;5;241m==\u001b[39m \u001b[38;5;241m4\u001b[39m, \u001b[38;5;124m'\u001b[39m\u001b[38;5;124mregion argument must be a tuple of four ints\u001b[39m\u001b[38;5;124m'\u001b[39m\n",
      "File \u001b[1;32m~\\AppData\\Local\\Programs\\Python\\Python311\\Lib\\site-packages\\PIL\\ImageGrab.py:47\u001b[0m, in \u001b[0;36mgrab\u001b[1;34m(bbox, include_layered_windows, all_screens, xdisplay)\u001b[0m\n\u001b[0;32m     45\u001b[0m     \u001b[38;5;28;01mreturn\u001b[39;00m im\n\u001b[0;32m     46\u001b[0m \u001b[38;5;28;01melif\u001b[39;00m sys\u001b[38;5;241m.\u001b[39mplatform \u001b[38;5;241m==\u001b[39m \u001b[38;5;124m\"\u001b[39m\u001b[38;5;124mwin32\u001b[39m\u001b[38;5;124m\"\u001b[39m:\n\u001b[1;32m---> 47\u001b[0m     offset, size, data \u001b[38;5;241m=\u001b[39m \u001b[43mImage\u001b[49m\u001b[38;5;241;43m.\u001b[39;49m\u001b[43mcore\u001b[49m\u001b[38;5;241;43m.\u001b[39;49m\u001b[43mgrabscreen_win32\u001b[49m\u001b[43m(\u001b[49m\n\u001b[0;32m     48\u001b[0m \u001b[43m        \u001b[49m\u001b[43minclude_layered_windows\u001b[49m\u001b[43m,\u001b[49m\u001b[43m \u001b[49m\u001b[43mall_screens\u001b[49m\n\u001b[0;32m     49\u001b[0m \u001b[43m    \u001b[49m\u001b[43m)\u001b[49m\n\u001b[0;32m     50\u001b[0m     im \u001b[38;5;241m=\u001b[39m Image\u001b[38;5;241m.\u001b[39mfrombytes(\n\u001b[0;32m     51\u001b[0m         \u001b[38;5;124m\"\u001b[39m\u001b[38;5;124mRGB\u001b[39m\u001b[38;5;124m\"\u001b[39m,\n\u001b[0;32m     52\u001b[0m         size,\n\u001b[1;32m   (...)\u001b[0m\n\u001b[0;32m     58\u001b[0m         \u001b[38;5;241m-\u001b[39m\u001b[38;5;241m1\u001b[39m,\n\u001b[0;32m     59\u001b[0m     )\n\u001b[0;32m     60\u001b[0m     \u001b[38;5;28;01mif\u001b[39;00m bbox:\n",
      "\u001b[1;31mOSError\u001b[0m: screen grab failed"
     ]
    }
   ],
   "source": [
    "# importing the required packages\n",
    "import pyautogui\n",
    "import cv2\n",
    "import numpy as np\n",
    "\n",
    "# Specify resolution\n",
    "resolution = (1920, 1080)\n",
    "\n",
    "# Specify video codec\n",
    "codec = cv2.VideoWriter_fourcc(*\"XVID\")\n",
    "\n",
    "# Specify name of Output file\n",
    "filename = \"Recording.avi\"\n",
    "\n",
    "# Specify frames rate. We can choose any \n",
    "# value and experiment with it\n",
    "fps = 60.0\n",
    "\n",
    "\n",
    "# Creating a VideoWriter object\n",
    "out = cv2.VideoWriter(filename, codec, fps, resolution)\n",
    "\n",
    "# Create an Empty window\n",
    "cv2.namedWindow(\"Live\", cv2.WINDOW_NORMAL)\n",
    "\n",
    "# Resize this window\n",
    "cv2.resizeWindow(\"Live\", 480, 270)\n",
    "\n",
    "while True:\n",
    "\t# Take screenshot using PyAutoGUI\n",
    "\timg = pyautogui.screenshot()\n",
    "\n",
    "\t# Convert the screenshot to a numpy array\n",
    "\tframe = np.array(img)\n",
    "\n",
    "\t# Convert it from BGR(Blue, Green, Red) to\n",
    "\t# RGB(Red, Green, Blue)\n",
    "\tframe = cv2.cvtColor(frame, cv2.COLOR_BGR2RGB)\n",
    "\n",
    "\t# Write it to the output file\n",
    "\tout.write(frame)\n",
    "\t\n",
    "\t# Optional: Display the recording screen\n",
    "\tcv2.imshow('Live', frame)\n",
    "\t\n",
    "\t# Stop recording when we press 'q'\n",
    "\tif cv2.waitKey(1) == ord('q'):\n",
    "\t\tbreak\n",
    "\n",
    "# Release the Video writer\n",
    "out.release()\n",
    "\n",
    "# Destroy all windows\n",
    "cv2.destroyAllWindows()\n"
   ]
  },
  {
   "cell_type": "code",
   "execution_count": null,
   "id": "b93ffaf2",
   "metadata": {},
   "outputs": [],
   "source": []
  }
 ],
 "metadata": {
  "kernelspec": {
   "display_name": "Python 3 (ipykernel)",
   "language": "python",
   "name": "python3"
  },
  "language_info": {
   "codemirror_mode": {
    "name": "ipython",
    "version": 3
   },
   "file_extension": ".py",
   "mimetype": "text/x-python",
   "name": "python",
   "nbconvert_exporter": "python",
   "pygments_lexer": "ipython3",
   "version": "3.11.4"
  }
 },
 "nbformat": 4,
 "nbformat_minor": 5
}
